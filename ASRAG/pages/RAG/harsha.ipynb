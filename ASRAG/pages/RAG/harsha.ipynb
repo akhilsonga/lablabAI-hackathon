{
 "cells": [
  {
   "cell_type": "code",
   "execution_count": null,
   "metadata": {},
   "outputs": [],
   "source": [
    "# General stuff"
   ]
  },
  {
   "cell_type": "code",
   "execution_count": 1,
   "metadata": {},
   "outputs": [
    {
     "name": "stderr",
     "output_type": "stream",
     "text": [
      "c:\\Users\\harsh\\AppData\\Local\\Programs\\Python\\Python310\\lib\\site-packages\\tqdm\\auto.py:21: TqdmWarning: IProgress not found. Please update jupyter and ipywidgets. See https://ipywidgets.readthedocs.io/en/stable/user_install.html\n",
      "  from .autonotebook import tqdm as notebook_tqdm\n"
     ]
    }
   ],
   "source": [
    "from parser import parser\n",
    "from llama_index.core import Document,Settings\n",
    "import nest_asyncio\n",
    "from markdown_parser import markdown_parser\n",
    "from vector_storing import vector_storing\n",
    "from vector_load import vector_load\n",
    "from llama_index.llms.openai import OpenAI\n",
    "from llama_index.core.node_parser import SentenceSplitter\n",
    "from llama_index.core.retrievers import QueryFusionRetriever\n",
    "from llama_index.core.query_engine import RetrieverQueryEngine\n",
    "from llama_index.core.tools import QueryEngineTool\n",
    "from llama_index.core.query_engine import RouterQueryEngine\n",
    "from llama_index.core.selectors import (\n",
    "    PydanticMultiSelector,\n",
    "    PydanticSingleSelector,\n",
    "    LLMSingleSelector, \n",
    "    LLMMultiSelector\n",
    ")\n",
    "from llama_index.core.node_parser import CodeSplitter\n",
    "from llama_index.core import SimpleDirectoryReader\n",
    "from llama_index.core.tools import QueryEngineTool\n",
    "\n",
    "\n",
    "nest_asyncio.apply()\n",
    "Settings.chunk_size = 1024"
   ]
  },
  {
   "cell_type": "code",
   "execution_count": 2,
   "metadata": {},
   "outputs": [
    {
     "name": "stdout",
     "output_type": "stream",
     "text": [
      "Started parsing the file under job_id ac46afc0-f485-4f39-88dc-ebca40edecd6\n"
     ]
    }
   ],
   "source": [
    "# This function will get executed when upload button i clicked\n",
    "\n",
    "parser(\"./2305.05176.pdf\")"
   ]
  },
  {
   "cell_type": "code",
   "execution_count": 2,
   "metadata": {},
   "outputs": [],
   "source": [
    "# Extracting the title of the research paper\n",
    "\n",
    "current_pfile = './parsed_pdf.md'\n",
    "\n",
    "with open(current_pfile, 'r', encoding=\"UTF-8\") as f:\n",
    "    parsed_text = f.read()\n",
    "\n",
    "title = parsed_text[parsed_text.find(' '):parsed_text.find('\\n')]\n",
    "\n",
    "title = title.strip()"
   ]
  },
  {
   "cell_type": "code",
   "execution_count": 3,
   "metadata": {},
   "outputs": [
    {
     "data": {
      "text/plain": [
       "{'paper_name': 'FrugalGPT: How to Use Large Language Models While Reducing Cost and Improving Performance',\n",
       " 'file_name': 'FrugalGPT: How to Use Large Language Models While Reducing Cost and Improving Performance'}"
      ]
     },
     "execution_count": 3,
     "metadata": {},
     "output_type": "execute_result"
    }
   ],
   "source": [
    "# Creating llama index document with paper name as metadata\n",
    "\n",
    "parsed_doc = Document(text=parsed_text,\n",
    "                      metadata = {\"paper_name\": title, \"file_name\": title})\n",
    "\n",
    "parsed_doc.metadata # prints metadata of the document"
   ]
  },
  {
   "cell_type": "markdown",
   "metadata": {},
   "source": [
    "# Top K Selector"
   ]
  },
  {
   "cell_type": "code",
   "execution_count": 5,
   "metadata": {},
   "outputs": [
    {
     "name": "stderr",
     "output_type": "stream",
     "text": [
      "13it [00:00, ?it/s]\n",
      "100%|██████████| 13/13 [00:08<00:00,  1.51it/s]\n"
     ]
    }
   ],
   "source": [
    "# Generating Index nodes and Text nodes by using  llama index MarkdownElementNodeParser \n",
    "\n",
    "base_nodes, objects = markdown_parser([parsed_doc])"
   ]
  },
  {
   "cell_type": "code",
   "execution_count": 6,
   "metadata": {},
   "outputs": [],
   "source": [
    "nodes = base_nodes + objects"
   ]
  },
  {
   "cell_type": "code",
   "execution_count": 7,
   "metadata": {},
   "outputs": [
    {
     "data": {
      "text/plain": [
       "<llama_index.core.indices.vector_store.base.VectorStoreIndex at 0x20f57532a10>"
      ]
     },
     "execution_count": 7,
     "metadata": {},
     "output_type": "execute_result"
    }
   ],
   "source": [
    "# Storing nodes in Chroma DB\n",
    "\n",
    "vector_index = vector_storing(\"./embeddings/top_k\",\"text-embedding-3-small\",\"vector_store\",nodes,\"VectorStoreIndex\")"
   ]
  },
  {
   "cell_type": "code",
   "execution_count": 8,
   "metadata": {},
   "outputs": [],
   "source": [
    "# Loading the stored nodes\n",
    "\n",
    "vector_index = vector_load(\"./embeddings/top_k\",\"text-embedding-3-small\",\"vector_store\",\"VectorStoreIndex\")"
   ]
  },
  {
   "cell_type": "code",
   "execution_count": 9,
   "metadata": {},
   "outputs": [],
   "source": [
    "vector_query_engine = vector_index.as_query_engine(similarity_top_k=15)"
   ]
  },
  {
   "cell_type": "code",
   "execution_count": 10,
   "metadata": {},
   "outputs": [
    {
     "name": "stdout",
     "output_type": "stream",
     "text": [
      "Table 1 in the paper named FrugalGPT describes a comparison of different language models such as GPT-C, GPT-J, ChatGPT, and GPT-4 based on certain parameters. The table includes values for Approximation, GPT-J, ChatGPT, and GPT-4 across different columns, providing a comparison of these models in the context of the discussed parameters.\n"
     ]
    }
   ],
   "source": [
    "query = \"Can you explain what table 1 is describing in the paper named Frugal GPT\"\n",
    "\n",
    "response_1 = vector_query_engine.query(query)\n",
    "print(str(response_1))"
   ]
  },
  {
   "cell_type": "code",
   "execution_count": null,
   "metadata": {},
   "outputs": [],
   "source": []
  },
  {
   "cell_type": "markdown",
   "metadata": {},
   "source": [
    "# Summariser"
   ]
  },
  {
   "cell_type": "code",
   "execution_count": 4,
   "metadata": {},
   "outputs": [
    {
     "name": "stdout",
     "output_type": "stream",
     "text": [
      "\n",
      "FrugalGPT: How to Use Large Language Models While Reducing Cost and Improving Performance\n",
      "# Introduction\n",
      "Query\n",
      "Query\n",
      "Budget\n",
      "Figure 1: Our vision for reducing LLM cost while improving accuracy.\n",
      "Related Works\n",
      "LLM APIs do not release their models.\n",
      "Scope and Problem Statement\n",
      "How to Use LLMs Affordably and Accurately\n",
      "Strategy 1: Prompt adaptation\n",
      "Strategy 2: LLM approximation\n",
      "Strategy 3: LLM cascade\n",
      "\n",
      "# Discussions, Limitations and Future Prospects\n"
     ]
    }
   ],
   "source": [
    "# Generating the summary documents list which stores each section of the research paper as a sepearte llama index document\n",
    "\n",
    "summary_documents = []\n",
    "\n",
    "for para in parsed_doc.text.split('##'):\n",
    "    section = para[:para.find('\\n')].strip()\n",
    "    if section.lower() != 'references':\n",
    "        print(section)\n",
    "        doc = Document(text=para, metadata={\"file_name\": title, \"paper_name\": title, \"section\": section})\n",
    "        summary_documents.append(doc)"
   ]
  },
  {
   "cell_type": "code",
   "execution_count": 5,
   "metadata": {},
   "outputs": [
    {
     "data": {
      "text/plain": [
       "{'file_name': 'FrugalGPT: How to Use Large Language Models While Reducing Cost and Improving Performance',\n",
       " 'paper_name': 'FrugalGPT: How to Use Large Language Models While Reducing Cost and Improving Performance',\n",
       " 'section': 'FrugalGPT: How to Use Large Language Models While Reducing Cost and Improving Performance'}"
      ]
     },
     "execution_count": 5,
     "metadata": {},
     "output_type": "execute_result"
    }
   ],
   "source": [
    "# Metadata that is storing by each llama index document inside summary_documents\n",
    "\n",
    "summary_documents[1].metadata"
   ]
  },
  {
   "cell_type": "code",
   "execution_count": 6,
   "metadata": {},
   "outputs": [],
   "source": [
    "# Generating nodes from summary_documents\n",
    "\n",
    "splitter = SentenceSplitter(chunk_size=1024)\n",
    "nodes = splitter.get_nodes_from_documents(summary_documents)"
   ]
  },
  {
   "cell_type": "code",
   "execution_count": 7,
   "metadata": {},
   "outputs": [
    {
     "data": {
      "text/plain": [
       "<llama_index.core.indices.list.base.SummaryIndex at 0x18e0575a260>"
      ]
     },
     "execution_count": 7,
     "metadata": {},
     "output_type": "execute_result"
    }
   ],
   "source": [
    "vector_storing(\"./embeddings/summaries\",\"text-embedding-3-small\",\"summary\",nodes,\"SummaryIndex\")"
   ]
  },
  {
   "cell_type": "code",
   "execution_count": 8,
   "metadata": {},
   "outputs": [],
   "source": [
    "summary_index = vector_load(\"./embeddings/summaries\",\"text-embedding-3-small\",\"summary\",\"SummaryIndex\")"
   ]
  },
  {
   "cell_type": "code",
   "execution_count": 11,
   "metadata": {},
   "outputs": [],
   "source": [
    "# Query Data from the persisted index\n",
    "summary_query_engine = summary_index.as_query_engine(\n",
    "    response_mode=\"tree_summarize\", use_async=True\n",
    ")\n",
    "response = summary_query_engine.query(\"Can you summarise the paper that is taking about Frugal GPT\")\n",
    "str(response)"
   ]
  },
  {
   "cell_type": "code",
   "execution_count": 7,
   "metadata": {},
   "outputs": [],
   "source": [
    "# query_engine.retrieve(\"can you summarise this\")"
   ]
  },
  {
   "cell_type": "code",
   "execution_count": null,
   "metadata": {},
   "outputs": [],
   "source": []
  },
  {
   "cell_type": "markdown",
   "metadata": {},
   "source": [
    "# Key word search indexer"
   ]
  },
  {
   "cell_type": "code",
   "execution_count": null,
   "metadata": {},
   "outputs": [],
   "source": [
    "vector_storing(\"./embeddings/key_words\",\"text-embedding-3-small\",\"key_words_store\",nodes,\"SimpleKeywordTableIndex\")"
   ]
  },
  {
   "cell_type": "code",
   "execution_count": null,
   "metadata": {},
   "outputs": [],
   "source": [
    "key_words_index = vector_load(\"./embeddings/key_words\",\"text-embedding-3-small\",\"key_words_store\",\"SimpleKeywordTableIndex\")"
   ]
  },
  {
   "cell_type": "code",
   "execution_count": null,
   "metadata": {},
   "outputs": [],
   "source": [
    "key_words_query_engine = key_words_index.as_query_engine(similarity_top_k=15)"
   ]
  },
  {
   "cell_type": "code",
   "execution_count": null,
   "metadata": {},
   "outputs": [],
   "source": [
    "response = key_words_query_engine.query(\"can you compare Frugal GPT with cohere\")\n",
    "\n",
    "str(response)"
   ]
  },
  {
   "cell_type": "code",
   "execution_count": null,
   "metadata": {},
   "outputs": [],
   "source": []
  },
  {
   "cell_type": "markdown",
   "metadata": {},
   "source": [
    "# Query Fusion"
   ]
  },
  {
   "cell_type": "code",
   "execution_count": 60,
   "metadata": {},
   "outputs": [],
   "source": [
    "query_fusion_retriever = QueryFusionRetriever(\n",
    "    [vector_index.as_retriever()],\n",
    "    similarity_top_k=5,\n",
    "    num_queries=3,  # set this to 1 to disable query generation\n",
    "    mode=\"reciprocal_rerank\",\n",
    "    use_async=True,\n",
    "    verbose=True,\n",
    "    # query_gen_prompt=\"...\",  # we could override the query generation prompt here\n",
    ")"
   ]
  },
  {
   "cell_type": "code",
   "execution_count": 62,
   "metadata": {},
   "outputs": [
    {
     "name": "stdout",
     "output_type": "stream",
     "text": [
      "Generated queries:\n",
      "1. Comparison of frugal GPT and ChatGPT 3/4 performance on various datasets\n",
      "2. Frugal GPT vs ChatGPT 3/4: accuracy and efficiency analysis on different datasets\n"
     ]
    }
   ],
   "source": [
    "nodes_with_scores = query_fusion_retriever.retrieve(\"what is frugal GPT and it's score on different datasets compared to ChatGPT 3 and 4\")"
   ]
  },
  {
   "cell_type": "code",
   "execution_count": 63,
   "metadata": {},
   "outputs": [],
   "source": [
    "\n",
    "query_fusion_query_engine = RetrieverQueryEngine.from_args(query_fusion_retriever)"
   ]
  },
  {
   "cell_type": "code",
   "execution_count": 66,
   "metadata": {},
   "outputs": [
    {
     "name": "stdout",
     "output_type": "stream",
     "text": [
      "Generated queries:\n",
      "1. Comparison of frugal GPT and ChatGPT 3/4 scores on various datasets\n",
      "2. Datasets used to compare frugal GPT and ChatGPT 3/4 performance\n"
     ]
    }
   ],
   "source": [
    "response = query_fusion_query_engine.query(\n",
    "    \"what is frugal GPT and it's score on different datasets compared to ChatGPT 3 and 4 name all the datasets that are used for comparison\"\n",
    ")"
   ]
  },
  {
   "cell_type": "code",
   "execution_count": 67,
   "metadata": {},
   "outputs": [
    {
     "data": {
      "text/plain": [
       "'FrugalGPT is a model that aims to reduce costs while maintaining accuracy by identifying queries that can be accurately answered by smaller language models. In comparison to ChatGPT, GPT-3 J1, and GPT-4, the datasets used for comparison include zero-shot, few-shot learning, and other scenarios like CoT.'"
      ]
     },
     "execution_count": 67,
     "metadata": {},
     "output_type": "execute_result"
    }
   ],
   "source": [
    "str(response)"
   ]
  },
  {
   "cell_type": "code",
   "execution_count": null,
   "metadata": {},
   "outputs": [],
   "source": []
  },
  {
   "cell_type": "markdown",
   "metadata": {},
   "source": [
    "# Pipeline for code"
   ]
  },
  {
   "cell_type": "code",
   "execution_count": null,
   "metadata": {},
   "outputs": [],
   "source": [
    "splitter = CodeSplitter('python')\n",
    "\n",
    "documents = SimpleDirectoryReader(\"./code\").load_data()\n",
    "nodes = splitter.get_nodes_from_documents(documents)"
   ]
  },
  {
   "cell_type": "code",
   "execution_count": null,
   "metadata": {},
   "outputs": [],
   "source": [
    "# Storing nodes in Chroma DB\n",
    "\n",
    "code_index = vector_storing(\"./embeddings/code\",\"text-embedding-3-small\",\"vector_store\",nodes,\"VectorStoreIndex\")"
   ]
  },
  {
   "cell_type": "code",
   "execution_count": null,
   "metadata": {},
   "outputs": [],
   "source": [
    "code_index = vector_load(\"./embeddings/code\",\"text-embedding-3-small\",\"vector_store\",\"VectorStoreIndex\")"
   ]
  },
  {
   "cell_type": "code",
   "execution_count": null,
   "metadata": {},
   "outputs": [],
   "source": [
    "code_query_engine = code_index.as_query_engine(similarity_top_k=15)"
   ]
  },
  {
   "cell_type": "code",
   "execution_count": null,
   "metadata": {},
   "outputs": [],
   "source": [
    "query = \"Can you explain what table 1 is describing in the paper named Frugal GPT\"\n",
    "\n",
    "response_1 = code_query_engine.query(query)\n",
    "print(str(response_1))"
   ]
  },
  {
   "cell_type": "code",
   "execution_count": null,
   "metadata": {},
   "outputs": [],
   "source": []
  },
  {
   "cell_type": "markdown",
   "metadata": {},
   "source": [
    "# Router"
   ]
  },
  {
   "cell_type": "code",
   "execution_count": null,
   "metadata": {},
   "outputs": [],
   "source": [
    "vector_tool = QueryEngineTool.from_defaults(\n",
    "    query_engine=vector_query_engine,\n",
    "    description=(\n",
    "        \"Useful for retrieving specific context\"\n",
    "    ),\n",
    ")\n",
    "\n",
    "\n",
    "summary_tool = QueryEngineTool.from_defaults(\n",
    "    query_engine=summary_query_engine,\n",
    "    description=(\n",
    "        \"Useful for summarization\"\n",
    "    ),\n",
    ")\n",
    "\n",
    "key_words_tool = QueryEngineTool.from_defaults(\n",
    "    query_engine=key_words_query_engine,\n",
    "    description=(\n",
    "        \"Useful for searching based on key words\"\n",
    "    ),\n",
    ")\n",
    "\n",
    "\n",
    "code_tool = QueryEngineTool.from_defaults(\n",
    "    query_engine=code_query_engine,\n",
    "    description=(\n",
    "        \"Useful for extacting code\"\n",
    "    ),\n",
    ")\n",
    "\n",
    "query_fusion_tool = QueryEngineTool.from_defaults(\n",
    "    query_engine=query_fusion_query_engine,\n",
    "    description=(\n",
    "        \"Split complex queries into sub queries\"\n",
    "    ),\n",
    ")\n"
   ]
  },
  {
   "cell_type": "code",
   "execution_count": null,
   "metadata": {},
   "outputs": [],
   "source": [
    "\n",
    "\n",
    "\n",
    "query_engine = RouterQueryEngine(\n",
    "    selector=PydanticMultiSelector.from_defaults(),\n",
    "    query_engine_tools=[\n",
    "        vector_tool,\n",
    "        summary_tool,\n",
    "        key_words_tool,\n",
    "        code_tool,\n",
    "        query_fusion_tool\n",
    "    ],\n",
    ")"
   ]
  },
  {
   "cell_type": "code",
   "execution_count": null,
   "metadata": {},
   "outputs": [],
   "source": [
    "response = query_engine.query(\"What is the summary of the document?\")\n",
    "print(str(response))"
   ]
  },
  {
   "cell_type": "code",
   "execution_count": null,
   "metadata": {},
   "outputs": [],
   "source": []
  }
 ],
 "metadata": {
  "kernelspec": {
   "display_name": "Python 3 (ipykernel)",
   "language": "python",
   "name": "python3"
  },
  "language_info": {
   "codemirror_mode": {
    "name": "ipython",
    "version": 3
   },
   "file_extension": ".py",
   "mimetype": "text/x-python",
   "name": "python",
   "nbconvert_exporter": "python",
   "pygments_lexer": "ipython3",
   "version": "3.11.8"
  }
 },
 "nbformat": 4,
 "nbformat_minor": 4
}
